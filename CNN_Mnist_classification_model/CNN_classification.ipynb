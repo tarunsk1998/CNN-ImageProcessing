{
 "cells": [
  {
   "cell_type": "markdown",
   "id": "e2f5562c",
   "metadata": {},
   "source": [
    "### Making use of one of the most popularly used dataset for image classification problems\n",
    "\n",
    "### MNIST Dataset brief overview:\n",
    "MNIST (\"Modified National Institute of Standards and Technology\") is the de facto “hello world” dataset of computer vision. Since its release in 1999, this classic dataset of handwritten images has served as the basis for benchmarking classification algorithms.\n",
    "\n",
    "It is a dataset of 60,000 small square 28×28 pixel grayscale images of handwritten single digits between 0 and 9. The task is to classify a given image of a handwritten digit into one of 10 classes representing integer values from 0 to 9, inclusively."
   ]
  },
  {
   "cell_type": "code",
   "execution_count": 130,
   "id": "de2371ea",
   "metadata": {},
   "outputs": [],
   "source": [
    "import tensorflow as tf\n",
    "from tensorflow.keras.datasets import mnist\n",
    "import numpy as np\n",
    "from matplotlib import pyplot\n",
    "import cv2"
   ]
  },
  {
   "cell_type": "code",
   "execution_count": 131,
   "id": "c22afcbf",
   "metadata": {},
   "outputs": [],
   "source": [
    "(x_train, y_train), (x_test, y_test) = mnist.load_data()"
   ]
  },
  {
   "cell_type": "code",
   "execution_count": 132,
   "id": "6169cab5",
   "metadata": {},
   "outputs": [
    {
     "data": {
      "text/plain": [
       "(60000, 28, 28)"
      ]
     },
     "execution_count": 132,
     "metadata": {},
     "output_type": "execute_result"
    }
   ],
   "source": [
    "x_train.shape"
   ]
  },
  {
   "cell_type": "code",
   "execution_count": 133,
   "id": "e0b1c69c",
   "metadata": {},
   "outputs": [
    {
     "data": {
      "image/png": "[encoded data removed]",
      "text/plain": [
       "<Figure size 432x288 with 9 Axes>"
      ]
     },
     "metadata": {
      "needs_background": "light"
     },
     "output_type": "display_data"
    }
   ],
   "source": [
    "for i in range(9):  \n",
    "    pyplot.subplot(331+i)\n",
    "    pyplot.imshow(x_train[i], cmap=pyplot.get_cmap('gray'))\n",
    "    #pyplot.title(y_train[i])\n",
    "pyplot.show()"
   ]
  },
  {
   "cell_type": "markdown",
   "id": "29102a01",
   "metadata": {},
   "source": [
    "# Image preprocessing"
   ]
  },
  {
   "cell_type": "code",
   "execution_count": 134,
   "id": "a63500d9",
   "metadata": {},
   "outputs": [],
   "source": [
    "img_rows, img_cols = x_train[0].shape\n",
    "x_train = x_train.reshape(x_train.shape[0], img_rows, img_cols, 1)\n",
    "x_test = x_test.reshape(x_test.shape[0], img_rows, img_cols, 1)\n",
    "\n",
    "x_train.astype(\"float\")\n",
    "x_test.astype(\"float\")\n",
    "\n",
    "x_train=x_train/255\n",
    "x_test=x_test/255"
   ]
  },
  {
   "cell_type": "code",
   "execution_count": 135,
   "id": "3f6bc662",
   "metadata": {},
   "outputs": [
    {
     "data": {
      "text/plain": [
       "(28, 28, 1)"
      ]
     },
     "execution_count": 135,
     "metadata": {},
     "output_type": "execute_result"
    }
   ],
   "source": [
    "x_train.shape[1:]"
   ]
  },
  {
   "cell_type": "markdown",
   "id": "e25e6cad",
   "metadata": {},
   "source": [
    "# One Hot Encoding for y"
   ]
  },
  {
   "cell_type": "code",
   "execution_count": 136,
   "id": "dcc991b9",
   "metadata": {},
   "outputs": [],
   "source": [
    "from tensorflow.keras.utils import to_categorical\n",
    "\n",
    "y_train = to_categorical(y_train)\n",
    "y_test = to_categorical(y_test)"
   ]
  },
  {
   "cell_type": "code",
   "execution_count": 137,
   "id": "c2a3da8e",
   "metadata": {},
   "outputs": [],
   "source": [
    "opt_class_len = y_train[0].shape[0]"
   ]
  },
  {
   "cell_type": "markdown",
   "id": "254be319",
   "metadata": {},
   "source": [
    "# Model creation"
   ]
  },
  {
   "cell_type": "code",
   "execution_count": 138,
   "id": "f79fe155",
   "metadata": {},
   "outputs": [
    {
     "name": "stdout",
     "output_type": "stream",
     "text": [
      "Model: \"sequential_19\"\n",
      "_________________________________________________________________\n",
      "Layer (type)                 Output Shape              Param #   \n",
      "=================================================================\n",
      "conv2d_28 (Conv2D)           (None, 28, 28, 32)        320       \n",
      "_________________________________________________________________\n",
      "max_pooling2d_21 (MaxPooling (None, 27, 27, 32)        0         \n",
      "_________________________________________________________________\n",
      "dropout_22 (Dropout)         (None, 27, 27, 32)        0         \n",
      "_________________________________________________________________\n",
      "conv2d_29 (Conv2D)           (None, 27, 27, 32)        25632     \n",
      "_________________________________________________________________\n",
      "max_pooling2d_22 (MaxPooling (None, 26, 26, 32)        0         \n",
      "_________________________________________________________________\n",
      "dropout_23 (Dropout)         (None, 26, 26, 32)        0         \n",
      "_________________________________________________________________\n",
      "flatten_7 (Flatten)          (None, 21632)             0         \n",
      "_________________________________________________________________\n",
      "dense_11 (Dense)             (None, 150)               3244950   \n",
      "_________________________________________________________________\n",
      "dropout_24 (Dropout)         (None, 150)               0         \n",
      "_________________________________________________________________\n",
      "dense_12 (Dense)             (None, 10)                1510      \n",
      "=================================================================\n",
      "Total params: 3,272,412\n",
      "Trainable params: 3,272,412\n",
      "Non-trainable params: 0\n",
      "_________________________________________________________________\n"
     ]
    }
   ],
   "source": [
    "from tensorflow.keras.models import Sequential\n",
    "from tensorflow.keras.layers import Dense, Dropout, Flatten\n",
    "from tensorflow.keras.layers import Conv2D, MaxPooling2D\n",
    "\n",
    "model = Sequential()\n",
    "\n",
    "model.add(Conv2D(filters=32, kernel_size=(3,3), padding='same', activation='relu', input_shape=x_train.shape[1:]))\n",
    "model.add(MaxPooling2D(pool_size=(2, 2), strides=(1, 1), padding='valid'))\n",
    "model.add(Dropout(0.1))\n",
    "model.add(Conv2D(filters=32, kernel_size=(5,5), padding='same', activation='relu'))\n",
    "model.add(MaxPooling2D(pool_size=(2, 2), strides=(1, 1), padding='valid'))\n",
    "model.add(Dropout(0.2))\n",
    "model.add(Flatten())\n",
    "model.add(Dense(150, activation='relu'))\n",
    "model.add(Dropout(0.3))\n",
    "model.add(Dense(opt_class_len, activation='softmax'))\n",
    "\n",
    "model.compile(loss= 'categorical_crossentropy', optimizer='adam', metrics=['accuracy'])\n",
    "\n",
    "model.summary()"
   ]
  },
  {
   "cell_type": "markdown",
   "id": "f45c8f06",
   "metadata": {},
   "source": [
    "# Model training"
   ]
  },
  {
   "cell_type": "code",
   "execution_count": 139,
   "id": "17e64499",
   "metadata": {},
   "outputs": [
    {
     "name": "stdout",
     "output_type": "stream",
     "text": [
      "Epoch 1/2\n",
      "1875/1875 [==============================] - 176s 94ms/step - loss: 0.1242 - accuracy: 0.9621 - val_loss: 0.0387 - val_accuracy: 0.9866\n",
      "Epoch 2/2\n",
      "1875/1875 [==============================] - 175s 93ms/step - loss: 0.0515 - accuracy: 0.9844 - val_loss: 0.0321 - val_accuracy: 0.9892\n"
     ]
    }
   ],
   "source": [
    "history = model.fit(x_train, y_train, batch_size=32, epochs=2, validation_data=(x_test, y_test))"
   ]
  },
  {
   "cell_type": "markdown",
   "id": "af055a4d",
   "metadata": {},
   "source": [
    "# Plotting Loss and accuracy charts"
   ]
  },
  {
   "cell_type": "code",
   "execution_count": 140,
   "id": "8a238b1e",
   "metadata": {},
   "outputs": [
    {
     "name": "stdout",
     "output_type": "stream",
     "text": [
      "{'loss': [0.12423522770404816, 0.05145205929875374], 'accuracy': [0.9620500206947327, 0.9843999743461609], 'val_loss': [0.038657546043395996, 0.03213714435696602], 'val_accuracy': [0.9865999817848206, 0.9891999959945679]}\n"
     ]
    },
    {
     "data": {
      "image/png": "[encoded data removed]",
      "text/plain": [
       "<Figure size 432x288 with 2 Axes>"
      ]
     },
     "metadata": {
      "needs_background": "light"
     },
     "output_type": "display_data"
    }
   ],
   "source": [
    "import matplotlib.pyplot as plt\n",
    "from matplotlib.pyplot import subplots_adjust\n",
    "\n",
    "print(history.history)\n",
    "history_dict = history.history\n",
    "loss_value = history_dict['loss']\n",
    "validation_loss_value = history_dict['val_loss']\n",
    "accuracy_value = history_dict['accuracy']\n",
    "validation_accuracy_value = history_dict['val_accuracy']\n",
    "epochs = range(1, len(loss_value)+1)\n",
    "\n",
    "plt.subplot(121)\n",
    "line1 = plt.plot(epochs, loss_value, label=\"loss\")\n",
    "line2 = plt.plot(epochs, validation_loss_value, label=\"validation_loss\")\n",
    "plt.xlabel(\"Epoch\")\n",
    "plt.ylabel(\"Loss\")\n",
    "plt.grid(True)\n",
    "plt.legend()\n",
    "#plt.show()\n",
    "\n",
    "plt.subplot(122)\n",
    "line1 = plt.plot(epochs, accuracy_value, label=\"loss\")\n",
    "line2 = plt.plot(epochs, validation_accuracy_value, label=\"validation_loss\")\n",
    "plt.xlabel(\"Epoch\")\n",
    "plt.ylabel(\"Accuracy\")\n",
    "plt.grid(True)\n",
    "plt.legend()\n",
    "plt.subplots_adjust(wspace=0.2, right=2.5)\n",
    "plt.show()"
   ]
  },
  {
   "cell_type": "markdown",
   "id": "15af8b64",
   "metadata": {},
   "source": [
    "Model accuracy and loss looks good. We can go ahead and save this model and use it when required."
   ]
  },
  {
   "cell_type": "code",
   "execution_count": 148,
   "id": "67c8700e",
   "metadata": {},
   "outputs": [],
   "source": [
    "model.save(\"Mnist_classification_model.h5\")"
   ]
  },
  {
   "cell_type": "code",
   "execution_count": null,
   "id": "bd598c15",
   "metadata": {},
   "outputs": [],
   "source": []
  }
 ],
 "metadata": {
  "kernelspec": {
   "display_name": "Python 3 (ipykernel)",
   "language": "python",
   "name": "python3"
  },
  "language_info": {
   "codemirror_mode": {
    "name": "ipython",
    "version": 3
   },
   "file_extension": ".py",
   "mimetype": "text/x-python",
   "name": "python",
   "nbconvert_exporter": "python",
   "pygments_lexer": "ipython3",
   "version": "3.8.11"
  }
 },
 "nbformat": 4,
 "nbformat_minor": 5
}
